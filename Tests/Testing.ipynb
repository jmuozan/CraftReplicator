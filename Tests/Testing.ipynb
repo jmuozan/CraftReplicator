{
 "cells": [
  {
   "cell_type": "code",
   "execution_count": 17,
   "id": "3f2597cc-246d-47b0-a3a2-12ae9aab1b80",
   "metadata": {},
   "outputs": [],
   "source": [
    "import torch\n",
    "import torch.nn as nn\n",
    "import numpy as np\n",
    "\n",
    "import os\n",
    "import imageio\n",
    "import matplotlib.pyplot as plt\n",
    "from torch.utils.data import DataLoader\n",
    "\n",
    "from dataset import get_rays\n",
    "from rendering import rendering\n",
    "from model import Voxels, Nerf\n",
    "from ml_helpers import training"
   ]
  },
  {
   "cell_type": "code",
   "execution_count": 5,
   "id": "498415ee-07d8-4fed-b9b7-e2a17e889f27",
   "metadata": {},
   "outputs": [],
   "source": [
    "test_o, test_d, test_target_px_values = get_rays('fox', mode='test')"
   ]
  },
  {
   "cell_type": "code",
   "execution_count": 6,
   "id": "661b1702-95f8-4907-8ba5-9d89bb89d48b",
   "metadata": {},
   "outputs": [],
   "source": [
    "device = 'mps'\n",
    "tn = 8.\n",
    "tf = 12."
   ]
  },
  {
   "cell_type": "code",
   "execution_count": 7,
   "id": "00a26fa6-7074-44d2-a3f0-261e78b1fb00",
   "metadata": {},
   "outputs": [
    {
     "name": "stderr",
     "output_type": "stream",
     "text": [
      "/var/folders/wv/_x9hjmys03x5gnbfl70ry2sr0000gn/T/ipykernel_4074/2219720236.py:1: FutureWarning: You are using `torch.load` with `weights_only=False` (the current default value), which uses the default pickle module implicitly. It is possible to construct malicious pickle data which will execute arbitrary code during unpickling (See https://github.com/pytorch/pytorch/blob/main/SECURITY.md#untrusted-models for more details). In a future release, the default value for `weights_only` will be flipped to `True`. This limits the functions that could be executed during unpickling. Arbitrary objects will no longer be allowed to be loaded via this mode unless they are explicitly allowlisted by the user via `torch.serialization.add_safe_globals`. We recommend you start setting `weights_only=True` for any use case where you don't have full control of the loaded file. Please open an issue on GitHub for any issues related to this experimental feature.\n",
      "  model = torch.load('model_nerfs').to(device)\n"
     ]
    }
   ],
   "source": [
    "model = torch.load('model_nerfs').to(device)"
   ]
  },
  {
   "cell_type": "code",
   "execution_count": 8,
   "id": "309abb3d-5763-40e9-8d90-f8878bb22752",
   "metadata": {},
   "outputs": [],
   "source": [
    "def mse2psnr(mse):\n",
    "    return 20 * np.log10(1 / np.sqrt(mse))\n",
    "\n",
    "\n",
    "@torch.no_grad()\n",
    "def test(model, o, d, tn, tf, nb_bins=100, chunk_size=10, H=400, W=400, target=None):\n",
    "    \n",
    "    o = o.chunk(chunk_size)\n",
    "    d = d.chunk(chunk_size)\n",
    "    \n",
    "    image = []\n",
    "    for o_batch, d_batch in zip(o, d):\n",
    "        img_batch = rendering(model, o_batch, d_batch, tn, tf, nb_bins=nb_bins, device=o_batch.device)\n",
    "        image.append(img_batch) # N, 3\n",
    "    image = torch.cat(image)\n",
    "    image = image.reshape(H, W, 3).cpu().numpy()\n",
    "    \n",
    "    if target is not None:\n",
    "        mse = ((image - target)**2).mean()\n",
    "        psnr = mse2psnr(mse)\n",
    "    \n",
    "    if target is not None: \n",
    "        return image, mse, psnr\n",
    "    else:\n",
    "        return image"
   ]
  },
  {
   "cell_type": "code",
   "execution_count": 19,
   "id": "9aa0672a-332f-43c1-8285-f4d1d63101c4",
   "metadata": {},
   "outputs": [
    {
     "name": "stdout",
     "output_type": "stream",
     "text": [
      "11.535920581383309\n"
     ]
    }
   ],
   "source": [
    "from rendering import rendering\n",
    "img, mse, psnr = test(\n",
    "    model,\n",
    "    torch.from_numpy(test_o[1]).to(device).to(torch.float32),\n",
    "    torch.from_numpy(test_d[1]).to(device).to(torch.float32),\n",
    "    tn, tf,\n",
    "    nb_bins=100,\n",
    "    chunk_size=10,\n",
    "    target=test_target_px_values[1].reshape(400, 400, 3)\n",
    ")\n",
    "print(psnr)"
   ]
  },
  {
   "cell_type": "code",
   "execution_count": 20,
   "id": "e07ee377-c2b0-420c-bbcd-3e4f2dc04bba",
   "metadata": {},
   "outputs": [
    {
     "data": {
      "text/plain": [
       "<matplotlib.image.AxesImage at 0x12d04f9d0>"
      ]
     },
     "execution_count": 20,
     "metadata": {},
     "output_type": "execute_result"
    },
    {
     "data": {
      "image/png": "[encoded data removed]",
      "text/plain": [
       "<Figure size 640x480 with 1 Axes>"
      ]
     },
     "metadata": {},
     "output_type": "display_data"
    }
   ],
   "source": [
    "plt.imshow(img)"
   ]
  },
  {
   "cell_type": "code",
   "execution_count": null,
   "id": "8f3fef9a-234b-4d86-9695-9fea80301476",
   "metadata": {},
   "outputs": [],
   "source": []
  }
 ],
 "metadata": {
  "kernelspec": {
   "display_name": "Python [conda env:newenv] *",
   "language": "python",
   "name": "conda-env-newenv-py"
  },
  "language_info": {
   "codemirror_mode": {
    "name": "ipython",
    "version": 3
   },
   "file_extension": ".py",
   "mimetype": "text/x-python",
   "name": "python",
   "nbconvert_exporter": "python",
   "pygments_lexer": "ipython3",
   "version": "3.9.21"
  }
 },
 "nbformat": 4,
 "nbformat_minor": 5
}
