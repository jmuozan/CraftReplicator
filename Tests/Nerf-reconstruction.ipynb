{
 "cells": [
  {
   "cell_type": "code",
   "execution_count": 1,
   "id": "257860de-71ad-4386-88bd-fc945e3bc256",
   "metadata": {},
   "outputs": [],
   "source": [
    "import torch\n",
    "import torch.nn as nn\n",
    "import numpy as np\n",
    "\n",
    "import os\n",
    "import imageio\n",
    "import matplotlib.pyplot as plt\n",
    "from torch.utils.data import DataLoader\n",
    "\n",
    "from dataset import get_rays\n",
    "from rendering import rendering\n",
    "from model import Nerf\n",
    "from ml_helpers import *"
   ]
  },
  {
   "cell_type": "code",
   "execution_count": 2,
   "id": "f471cc1a-3a05-48f5-839d-26b4175fb567",
   "metadata": {},
   "outputs": [
    {
     "name": "stdout",
     "output_type": "stream",
     "text": [
      "Has intersect method: True\n"
     ]
    }
   ],
   "source": [
    "# Test if intersect exists\n",
    "model = Nerf(hidden_dim=128)\n",
    "print(\"Has intersect method:\", hasattr(model, 'intersect'))"
   ]
  },
  {
   "cell_type": "code",
   "execution_count": 3,
   "id": "f75afd91-dcfd-4c5c-bb06-cd92b90ac964",
   "metadata": {},
   "outputs": [
    {
     "name": "stdout",
     "output_type": "stream",
     "text": [
      "Using device: mps\n"
     ]
    }
   ],
   "source": [
    "# Check MPS availability\n",
    "def get_device():\n",
    "    if torch.backends.mps.is_available():\n",
    "        return 'mps'\n",
    "    return 'cpu'\n",
    "\n",
    "# Modified training setup\n",
    "device = get_device()\n",
    "print(f\"Using device: {device}\")"
   ]
  },
  {
   "cell_type": "markdown",
   "id": "5922e325-8976-4a36-88aa-908cbe4d3953",
   "metadata": {},
   "source": [
    "# Camera / Dataset"
   ]
  },
  {
   "cell_type": "code",
   "execution_count": 4,
   "id": "66e62ab8-9524-48b6-a646-01b27c9a3fd6",
   "metadata": {},
   "outputs": [],
   "source": [
    "batch_size = 1024\n",
    "\n",
    "o, d, target_px_values = get_rays('fox', mode='train')\n",
    "dataloader = DataLoader(torch.cat((torch.from_numpy(o).reshape(-1, 3).type(torch.float),\n",
    "                                torch.from_numpy(d).reshape(-1, 3).type(torch.float),\n",
    "                                torch.from_numpy(target_px_values).reshape(-1, 3).type(torch.float)), dim=1),\n",
    "                    batch_size=batch_size, shuffle=True)\n",
    "\n",
    "dataloader_warmup = DataLoader(torch.cat((torch.from_numpy(o).reshape(90, 400, 400, 3)[:, 100:300, 100:300, :].reshape(-1, 3).type(torch.float),\n",
    "                               torch.from_numpy(d).reshape(90, 400, 400, 3)[:, 100:300, 100:300, :].reshape(-1, 3).type(torch.float),\n",
    "                               torch.from_numpy(target_px_values).reshape(90, 400, 400, 3)[:, 100:300, 100:300, :].reshape(-1, 3).type(torch.float)), dim=1),\n",
    "                       batch_size=batch_size, shuffle=True)\n",
    "\n",
    "\n",
    "test_o, test_d, test_target_px_values = get_rays('fox', mode='test')"
   ]
  },
  {
   "cell_type": "markdown",
   "id": "bbcc6284-ff38-4a9d-a914-7cd8ff9163fb",
   "metadata": {},
   "source": [
    "# Training"
   ]
  },
  {
   "cell_type": "code",
   "execution_count": 5,
   "id": "7306c575-1626-4d84-9911-6b8d62dd5a79",
   "metadata": {},
   "outputs": [],
   "source": [
    "def training_with_warmup(model, optimizer, scheduler, tn, tf, nb_bins, device='mps'):\n",
    "    \"\"\"\n",
    "    Complete training pipeline with warmup and full training phases\n",
    "    \"\"\"\n",
    "    print(\"Starting warm-up phase...\")\n",
    "    # Warmup training\n",
    "    warmup_loss = train_model(\n",
    "        model=model,\n",
    "        optimizer=optimizer,\n",
    "        scheduler=scheduler,\n",
    "        dataloader=dataloader_warmup,\n",
    "        tn=tn,\n",
    "        tf=tf,\n",
    "        nb_bins=nb_bins,\n",
    "        nb_epochs=1,\n",
    "        device=device\n",
    "    )\n",
    "    plot_training_loss(warmup_loss)\n",
    "    \n",
    "    print(\"\\nStarting main training phase...\")\n",
    "    # Main training\n",
    "    main_loss = train_model(\n",
    "        model=model,\n",
    "        optimizer=optimizer,\n",
    "        scheduler=scheduler,\n",
    "        dataloader=dataloader,\n",
    "        tn=tn,\n",
    "        tf=tf,\n",
    "        nb_bins=nb_bins,\n",
    "        nb_epochs=nb_epochs,\n",
    "        device=device\n",
    "    )\n",
    "    plot_training_loss(main_loss)\n",
    "    \n",
    "    return warmup_loss, main_loss"
   ]
  },
  {
   "cell_type": "code",
   "execution_count": 6,
   "id": "d4557cb6-88ba-4a0b-9cd1-782d107f3422",
   "metadata": {},
   "outputs": [],
   "source": [
    "def train_model(model, optimizer, scheduler, dataloader, tn, tf, nb_bins, nb_epochs, device='mps'):\n",
    "    training_loss = []\n",
    "    \n",
    "    for epoch in range(nb_epochs):\n",
    "        epoch_loss = []\n",
    "        for batch in tqdm(dataloader, desc=f'Epoch {epoch+1}/{nb_epochs}'):\n",
    "            # Move batch to device\n",
    "            o = batch[:, :3].to(device)\n",
    "            d = batch[:, 3:6].to(device)\n",
    "            target = batch[:, 6:].to(device)\n",
    "            \n",
    "            prediction = rendering(model, o, d, tn, tf, nb_bins=nb_bins, device=device)\n",
    "            loss = ((prediction - target)**2).mean()\n",
    "            \n",
    "            optimizer.zero_grad()\n",
    "            loss.backward()\n",
    "            optimizer.step()\n",
    "            \n",
    "            epoch_loss.append(loss.item())\n",
    "        \n",
    "        avg_loss = sum(epoch_loss) / len(epoch_loss)\n",
    "        training_loss.append(avg_loss)\n",
    "        print(f\"Epoch {epoch+1}/{nb_epochs}, Loss: {avg_loss:.4f}\")\n",
    "        \n",
    "        scheduler.step()\n",
    "        \n",
    "        # Save model checkpoints to CPU\n",
    "        torch.save(model.cpu().state_dict(), f'model_nerf_epoch_{epoch+1}.pt')\n",
    "        model.to(device)\n",
    "    \n",
    "    return training_loss"
   ]
  },
  {
   "cell_type": "code",
   "execution_count": 7,
   "id": "fc11b900-5785-4cef-8be2-95b649536782",
   "metadata": {},
   "outputs": [],
   "source": [
    "def training(model, optimizer, scheduler, tn, tf, nb_bins, nb_epochs, data_loader, device='mps'):\n",
    "    print(\"Warning: This is the legacy training function. Consider using train_model instead.\")\n",
    "    \n",
    "    training_loss = []\n",
    "    for epoch in (range(nb_epochs)):\n",
    "        for batch in tqdm(data_loader):\n",
    "            o = batch[:, :3].to(device)\n",
    "            d = batch[:, 3:6].to(device)\n",
    "            \n",
    "            target = batch[:, 6:].to(device)\n",
    "            \n",
    "            prediction = rendering(model, o, d, tn, tf, nb_bins=nb_bins, device=device)\n",
    "            \n",
    "            loss = ((prediction - target)**2).mean()\n",
    "            \n",
    "            optimizer.zero_grad()\n",
    "            loss.backward()\n",
    "            optimizer.step()\n",
    "            training_loss.append(loss.item())\n",
    "            \n",
    "        scheduler.step()\n",
    "        \n",
    "        torch.save(model.cpu().state_dict(), f'model_nerf_epoch_{epoch+1}.pt')\n",
    "        model.to(device)\n",
    "        \n",
    "    return training_loss"
   ]
  },
  {
   "cell_type": "code",
   "execution_count": 8,
   "id": "0de27785-4fe0-4f45-89ec-09513fd21ce8",
   "metadata": {},
   "outputs": [],
   "source": [
    "# Restart the kernel in your notebook\n",
    "import torch\n",
    "from model import Nerf  # Re-import the updated model"
   ]
  },
  {
   "cell_type": "code",
   "execution_count": 10,
   "id": "edd96eec-e258-469d-8781-da1dc2bd1ca6",
   "metadata": {},
   "outputs": [
    {
     "name": "stdout",
     "output_type": "stream",
     "text": [
      "Starting warm-up phase...\n"
     ]
    },
    {
     "name": "stderr",
     "output_type": "stream",
     "text": [
      "Epoch 1/1: 100%|████████████████████████████████████████████| 3516/3516 [04:38<00:00, 12.60it/s]"
     ]
    },
    {
     "name": "stdout",
     "output_type": "stream",
     "text": [
      "Epoch 1/1, Loss: 0.1171\n"
     ]
    },
    {
     "name": "stderr",
     "output_type": "stream",
     "text": [
      "\n"
     ]
    },
    {
     "data": {
      "image/png": "[encoded data removed]",
      "text/plain": [
       "<Figure size 1000x500 with 1 Axes>"
      ]
     },
     "metadata": {},
     "output_type": "display_data"
    },
    {
     "name": "stdout",
     "output_type": "stream",
     "text": [
      "\n",
      "Starting main training phase...\n"
     ]
    },
    {
     "name": "stderr",
     "output_type": "stream",
     "text": [
      "Epoch 1/1: 100%|██████████████████████████████████████████| 14063/14063 [18:52<00:00, 12.42it/s]"
     ]
    },
    {
     "name": "stdout",
     "output_type": "stream",
     "text": [
      "Epoch 1/1, Loss: 0.0016\n"
     ]
    },
    {
     "name": "stderr",
     "output_type": "stream",
     "text": [
      "\n"
     ]
    },
    {
     "data": {
      "image/png": "[encoded data removed]",
      "text/plain": [
       "<Figure size 1000x500 with 1 Axes>"
      ]
     },
     "metadata": {},
     "output_type": "display_data"
    },
    {
     "ename": "TypeError",
     "evalue": "plot_training_loss() got an unexpected keyword argument 'phase'",
     "output_type": "error",
     "traceback": [
      "\u001b[0;31m---------------------------------------------------------------------------\u001b[0m",
      "\u001b[0;31mTypeError\u001b[0m                                 Traceback (most recent call last)",
      "Cell \u001b[0;32mIn[10], line 26\u001b[0m\n\u001b[1;32m     15\u001b[0m warmup_loss, main_loss \u001b[38;5;241m=\u001b[39m training_with_warmup(\n\u001b[1;32m     16\u001b[0m     model\u001b[38;5;241m=\u001b[39mmodel,\n\u001b[1;32m     17\u001b[0m     optimizer\u001b[38;5;241m=\u001b[39moptimizer,\n\u001b[0;32m   (...)\u001b[0m\n\u001b[1;32m     22\u001b[0m     device\u001b[38;5;241m=\u001b[39mdevice\n\u001b[1;32m     23\u001b[0m )\n\u001b[1;32m     25\u001b[0m \u001b[38;5;66;03m# Plot the training loss\u001b[39;00m\n\u001b[0;32m---> 26\u001b[0m \u001b[43mplot_training_loss\u001b[49m\u001b[43m(\u001b[49m\u001b[43m(\u001b[49m\u001b[43mwarmup_loss\u001b[49m\u001b[43m,\u001b[49m\u001b[43m \u001b[49m\u001b[43mmain_loss\u001b[49m\u001b[43m)\u001b[49m\u001b[43m,\u001b[49m\u001b[43m \u001b[49m\u001b[43mphase\u001b[49m\u001b[38;5;241;43m=\u001b[39;49m\u001b[38;5;124;43m'\u001b[39;49m\u001b[38;5;124;43mfull\u001b[39;49m\u001b[38;5;124;43m'\u001b[39;49m\u001b[43m)\u001b[49m\n\u001b[1;32m     29\u001b[0m \u001b[38;5;124;03m'''\u001b[39;00m\n\u001b[1;32m     30\u001b[0m \u001b[38;5;124;03mtraining_loss = training(model, optimizer, scheduler, tn, tf, nb_bins, 1, dataloader_warmup, device=device)\u001b[39;00m\n\u001b[1;32m     31\u001b[0m \u001b[38;5;124;03mplt.plot(training_loss)\u001b[39;00m\n\u001b[0;32m   (...)\u001b[0m\n\u001b[1;32m     35\u001b[0m \u001b[38;5;124;03mplt.show()\u001b[39;00m\n\u001b[1;32m     36\u001b[0m \u001b[38;5;124;03m'''\u001b[39;00m\n",
      "\u001b[0;31mTypeError\u001b[0m: plot_training_loss() got an unexpected keyword argument 'phase'"
     ]
    }
   ],
   "source": [
    "tn = 8.\n",
    "tf = 12.\n",
    "nb_epochs = 1\n",
    "lr = 1e-3\n",
    "gamma = .5\n",
    "nb_bins = 100\n",
    "\n",
    "# Initialize model and move to MPS\n",
    "device = 'mps' if torch.backends.mps.is_available() else 'cpu'\n",
    "model = Nerf(hidden_dim=128).to(device)\n",
    "optimizer = torch.optim.Adam(model.parameters(), lr=lr)\n",
    "scheduler = torch.optim.lr_scheduler.MultiStepLR(optimizer, milestones=[5, 10], gamma=gamma)\n",
    "\n",
    "# Train the model\n",
    "warmup_loss, main_loss = training_with_warmup(\n",
    "    model=model,\n",
    "    optimizer=optimizer,\n",
    "    scheduler=scheduler,\n",
    "    tn=tn,\n",
    "    tf=tf,\n",
    "    nb_bins=nb_bins,\n",
    "    device=device\n",
    ")\n",
    "\n",
    "# Plot the training loss\n",
    "plot_training_loss((warmup_loss, main_loss), phase='full')\n",
    "\n",
    "\n",
    "'''\n",
    "training_loss = training(model, optimizer, scheduler, tn, tf, nb_bins, 1, dataloader_warmup, device=device)\n",
    "plt.plot(training_loss)\n",
    "plt.show()\n",
    "training_loss = training(model, optimizer, scheduler, tn, tf, nb_bins, nb_epochs, dataloader, device=device)\n",
    "plt.plot(training_loss)\n",
    "plt.show()\n",
    "'''"
   ]
  },
  {
   "cell_type": "code",
   "execution_count": null,
   "id": "e2b2ceae-86b6-4d6d-aafe-ac3627807f50",
   "metadata": {},
   "outputs": [],
   "source": [
    "torch.save(model, 'model_nerf')"
   ]
  },
  {
   "cell_type": "code",
   "execution_count": null,
   "id": "2e55a540-e42a-47de-80a6-a7d02d51bf9c",
   "metadata": {},
   "outputs": [],
   "source": []
  }
 ],
 "metadata": {
  "kernelspec": {
   "display_name": "Python [conda env:newenv] *",
   "language": "python",
   "name": "conda-env-newenv-py"
  },
  "language_info": {
   "codemirror_mode": {
    "name": "ipython",
    "version": 3
   },
   "file_extension": ".py",
   "mimetype": "text/x-python",
   "name": "python",
   "nbconvert_exporter": "python",
   "pygments_lexer": "ipython3",
   "version": "3.9.21"
  }
 },
 "nbformat": 4,
 "nbformat_minor": 5
}
