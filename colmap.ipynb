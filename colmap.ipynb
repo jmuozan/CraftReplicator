{
 "cells": [
  {
   "cell_type": "code",
   "execution_count": 19,
   "id": "257860de-71ad-4386-88bd-fc945e3bc256",
   "metadata": {},
   "outputs": [],
   "source": [
    "import torch\n",
    "import torch.nn as nn\n",
    "import numpy as np\n",
    "\n",
    "import os\n",
    "import imageio\n",
    "import matplotlib.pyplot as plt\n",
    "from torch.utils.data import DataLoader\n",
    "\n",
    "#from dataset import get_rays\n",
    "from rendering import rendering\n",
    "from model import Voxels, Nerf\n",
    "from ml_helpers import training\n",
    "\n",
    "from skimage.measure import marching_cubes\n",
    "import trimesh\n",
    "import trimesh.smoothing\n",
    "import os"
   ]
  },
  {
   "cell_type": "code",
   "execution_count": 20,
   "id": "0edee44f-d2ec-445c-82fe-4ec3556989f4",
   "metadata": {},
   "outputs": [
    {
     "name": "stdout",
     "output_type": "stream",
     "text": [
      "torch version:  2.5.1\n",
      "device:  mps\n"
     ]
    }
   ],
   "source": [
    "print(\"torch version: \", torch.__version__)\n",
    "\n",
    "if torch.backends.mps.is_available():\n",
    "    device = torch.device(\"mps\")\n",
    "else: \n",
    "    device = torch.device(\"cpu\")\n",
    "\n",
    "print(\"device: \", device)"
   ]
  },
  {
   "cell_type": "code",
   "execution_count": 23,
   "id": "78a89754-555f-4388-80af-986806e70bee",
   "metadata": {},
   "outputs": [],
   "source": [
    "import numpy as np\n",
    "import os\n",
    "import imageio.v2 as imageio\n",
    "from typing import Dict, Tuple\n",
    "import logging\n",
    "\n",
    "logging.basicConfig(level=logging.INFO)\n",
    "logger = logging.getLogger(__name__)\n",
    "\n",
    "def read_cameras(path: str) -> Dict:\n",
    "    cameras = {}\n",
    "    with open(path, \"r\") as f:\n",
    "        for line in f:\n",
    "            if line[0] == \"#\": continue\n",
    "            data = line.strip().split()\n",
    "            camera_id = int(data[0])\n",
    "            cameras[camera_id] = {\n",
    "                \"model\": data[1],\n",
    "                \"width\": int(data[2]),\n",
    "                \"height\": int(data[3]),\n",
    "                \"params\": np.array(data[4:], dtype=np.float64)\n",
    "            }\n",
    "    return cameras\n",
    "\n",
    "def read_images(path: str) -> Dict:\n",
    "    images = {}\n",
    "    with open(path, \"r\") as f:\n",
    "        lines = f.readlines()\n",
    "\n",
    "    for i in range(0, len(lines), 2):\n",
    "        if lines[i][0] == \"#\": continue\n",
    "        data = lines[i].split()\n",
    "        points_data = lines[i + 1].split()\n",
    "        \n",
    "        image_id = int(data[0])\n",
    "        images[image_id] = {\n",
    "            \"qvec\": np.array(data[1:5], dtype=float),\n",
    "            \"tvec\": np.array(data[5:8], dtype=float),\n",
    "            \"camera_id\": int(data[8]),\n",
    "            \"name\": data[9],\n",
    "            \"xys\": np.array([(float(points_data[j]), float(points_data[j+1])) \n",
    "                           for j in range(0, len(points_data), 3)]),\n",
    "            \"point3D_ids\": np.array([int(points_data[j+2]) \n",
    "                                   for j in range(0, len(points_data), 3)])\n",
    "        }\n",
    "    return images\n",
    "\n",
    "def qvec2rotmat(qvec: np.ndarray) -> np.ndarray:\n",
    "    return np.array([\n",
    "        [1 - 2 * qvec[2]**2 - 2 * qvec[3]**2,\n",
    "         2 * qvec[1] * qvec[2] - 2 * qvec[0] * qvec[3],\n",
    "         2 * qvec[3] * qvec[1] + 2 * qvec[0] * qvec[2]],\n",
    "        [2 * qvec[1] * qvec[2] + 2 * qvec[0] * qvec[3],\n",
    "         1 - 2 * qvec[1]**2 - 2 * qvec[3]**2,\n",
    "         2 * qvec[2] * qvec[3] - 2 * qvec[0] * qvec[1]],\n",
    "        [2 * qvec[3] * qvec[1] - 2 * qvec[0] * qvec[2],\n",
    "         2 * qvec[2] * qvec[3] + 2 * qvec[0] * qvec[1],\n",
    "         1 - 2 * qvec[1]**2 - 2 * qvec[2]**2]])\n",
    "\n",
    "def generate_rays(camera: Dict, image_data: Dict, img: np.ndarray) -> Tuple[np.ndarray, np.ndarray, np.ndarray]:\n",
    "    # Keep original dimensions\n",
    "    H, W = img.shape[:2]\n",
    "    f = camera['params'][0]\n",
    "        \n",
    "    if img.shape[2] == 4:\n",
    "        img = img[..., :3] * img[..., -1:] + (1 - img[..., -1:])\n",
    "    \n",
    "    R = qvec2rotmat(image_data['qvec'])\n",
    "    t = image_data['tvec']\n",
    "    C = -R.T @ t\n",
    "    \n",
    "    u, v = np.meshgrid(np.arange(W), np.arange(H))\n",
    "    dirs = np.stack([(u - W/2), -(v - H/2), -np.ones_like(u) * f], axis=-1)\n",
    "    dirs = (R.T @ dirs.reshape(-1, 3).T).T\n",
    "    dirs = dirs / np.linalg.norm(dirs, axis=-1, keepdims=True)\n",
    "    \n",
    "    rays_o = np.broadcast_to(C, dirs.shape)\n",
    "    rays_d = dirs\n",
    "    target_px_values = img.reshape(-1, 3)\n",
    "    \n",
    "    return rays_o, rays_d, target_px_values\n",
    "\n",
    "def get_rays(datapath: str, mode: str = 'train') -> Tuple[np.ndarray, np.ndarray, np.ndarray]:\n",
    "    colmap_dir = os.path.join(datapath, 'colmap')\n",
    "    imgs_dir = os.path.join(datapath, 'imgs')\n",
    "    \n",
    "    cameras = read_cameras(os.path.join(colmap_dir, 'cameras.txt'))\n",
    "    images = read_images(os.path.join(colmap_dir, 'images.txt'))\n",
    "    \n",
    "    # Get a sample image to determine dimensions\n",
    "    sample_img = imageio.imread(os.path.join(imgs_dir, list(images.values())[0]['name']))\n",
    "    H, W = sample_img.shape[:2]\n",
    "    \n",
    "    image_list = sorted(images.items(), key=lambda x: x[1]['name'])\n",
    "    split_idx = int(len(image_list) * 0.9)\n",
    "    selected_images = image_list[:split_idx] if mode == 'train' else image_list[split_idx:]\n",
    "    \n",
    "    rays_o = []\n",
    "    rays_d = []\n",
    "    target_px_values = []\n",
    "    \n",
    "    for image_id, image_data in selected_images:\n",
    "        img_path = os.path.join(imgs_dir, image_data['name'])\n",
    "        img = imageio.imread(img_path).astype(np.float32) / 255.0\n",
    "        \n",
    "        # Ensure consistent dimensions\n",
    "        if img.shape[:2] != (H, W):\n",
    "            from skimage.transform import resize\n",
    "            img = resize(img, (H, W, 3), anti_aliasing=True)\n",
    "        \n",
    "        camera = cameras[image_data['camera_id']]\n",
    "        ro, rd, rgb = generate_rays(camera, image_data, img)\n",
    "        \n",
    "        rays_o.append(ro)\n",
    "        rays_d.append(rd)\n",
    "        target_px_values.append(rgb)\n",
    "    \n",
    "    # Stack and reshape\n",
    "    rays_o = np.stack(rays_o)\n",
    "    rays_d = np.stack(rays_d)\n",
    "    target_px_values = np.stack(target_px_values)\n",
    "    \n",
    "    n_images = len(selected_images)\n",
    "    logger.info(f\"Number of images: {n_images}, Image dimensions: {H}x{W}\")\n",
    "    \n",
    "    return (rays_o.reshape(n_images, H, W, 3),\n",
    "            rays_d.reshape(n_images, H, W, 3),\n",
    "            target_px_values.reshape(n_images, H, W, 3))"
   ]
  },
  {
   "cell_type": "markdown",
   "id": "5922e325-8976-4a36-88aa-908cbe4d3953",
   "metadata": {},
   "source": [
    "# Camera / Dataset"
   ]
  },
  {
   "cell_type": "code",
   "execution_count": 25,
   "id": "66e62ab8-9524-48b6-a646-01b27c9a3fd6",
   "metadata": {},
   "outputs": [
    {
     "name": "stderr",
     "output_type": "stream",
     "text": [
      "INFO:__main__:Number of images: 89, Image dimensions: 400x400\n",
      "INFO:__main__:Number of images: 10, Image dimensions: 400x400\n"
     ]
    }
   ],
   "source": [
    "batch_size = 1024\n",
    "o, d, target_px_values = get_rays('fox', mode='train')\n",
    "\n",
    "# Regular dataloader\n",
    "dataloader = DataLoader(torch.cat((\n",
    "    torch.from_numpy(o).reshape(-1, 3).type(torch.float),\n",
    "    torch.from_numpy(d).reshape(-1, 3).type(torch.float),\n",
    "    torch.from_numpy(target_px_values).reshape(-1, 3).type(torch.float)), dim=1),\n",
    "    batch_size=batch_size, shuffle=True)\n",
    "\n",
    "# Warmup dataloader with cropped center region\n",
    "dataloader_warmup = DataLoader(torch.cat((\n",
    "    torch.from_numpy(o).reshape(89, 400, 400, 3)[:, 100:300, 100:300, :].reshape(-1, 3).type(torch.float),\n",
    "    torch.from_numpy(d).reshape(89, 400, 400, 3)[:, 100:300, 100:300, :].reshape(-1, 3).type(torch.float),\n",
    "    torch.from_numpy(target_px_values).reshape(89, 400, 400, 3)[:, 100:300, 100:300, :].reshape(-1, 3).type(torch.float)), dim=1),\n",
    "    batch_size=batch_size, shuffle=True)\n",
    "\n",
    "# Test data\n",
    "test_o, test_d, test_target_px_values = get_rays('fox', mode='test')"
   ]
  },
  {
   "cell_type": "markdown",
   "id": "bbcc6284-ff38-4a9d-a914-7cd8ff9163fb",
   "metadata": {},
   "source": [
    "# Training"
   ]
  },
  {
   "cell_type": "code",
   "execution_count": 26,
   "id": "edd96eec-e258-469d-8781-da1dc2bd1ca6",
   "metadata": {},
   "outputs": [
    {
     "name": "stderr",
     "output_type": "stream",
     "text": [
      "100%|███████████████████████████████████████| 3477/3477 [10:33<00:00,  5.49it/s]\n"
     ]
    },
    {
     "data": {
      "image/png": "[encoded data removed]",
      "text/plain": [
       "<Figure size 640x480 with 1 Axes>"
      ]
     },
     "metadata": {},
     "output_type": "display_data"
    },
    {
     "name": "stderr",
     "output_type": "stream",
     "text": [
      "100%|█████████████████████████████████████| 13907/13907 [42:13<00:00,  5.49it/s]\n"
     ]
    },
    {
     "data": {
      "image/png": "[encoded data removed]",
      "text/plain": [
       "<Figure size 640x480 with 1 Axes>"
      ]
     },
     "metadata": {},
     "output_type": "display_data"
    }
   ],
   "source": [
    "device = device\n",
    "\n",
    "tn = 8.\n",
    "tf = 12.\n",
    "nb_epochs = 1 #15 30\n",
    "lr =  1e-3 # 1e-3 5e-4\n",
    "gamma = .5 #0.5 0.7 \n",
    "nb_bins = 100 #100 256\n",
    "\n",
    "model = Nerf(hidden_dim=256).to(device) #Nerf(hidden_dim=128).to(device) \n",
    "optimizer = torch.optim.Adam(model.parameters(), lr=lr)\n",
    "scheduler = torch.optim.lr_scheduler.MultiStepLR(optimizer, milestones=[5, 10], gamma=gamma)\n",
    "\n",
    "\n",
    "\n",
    "training_loss = training(model, optimizer, scheduler, tn, tf, nb_bins, 1, dataloader_warmup, device=device)\n",
    "plt.plot(training_loss)\n",
    "plt.show()\n",
    "training_loss = training(model, optimizer, scheduler, tn, tf, nb_bins, nb_epochs, dataloader, device=device)\n",
    "plt.plot(training_loss)\n",
    "plt.show()"
   ]
  },
  {
   "cell_type": "code",
   "execution_count": 27,
   "id": "e2b2ceae-86b6-4d6d-aafe-ac3627807f50",
   "metadata": {},
   "outputs": [],
   "source": [
    "torch.save(model, 'model_nerf_colmap')"
   ]
  },
  {
   "cell_type": "markdown",
   "id": "be732b56-fa20-4a47-8b2a-f918c1ea5d7a",
   "metadata": {},
   "source": [
    "# Mesh extraction"
   ]
  },
  {
   "cell_type": "code",
   "execution_count": 28,
   "id": "b6764d29-c8b9-417f-ad7f-a2aa42554303",
   "metadata": {},
   "outputs": [
    {
     "name": "stderr",
     "output_type": "stream",
     "text": [
      "/var/folders/wv/_x9hjmys03x5gnbfl70ry2sr0000gn/T/ipykernel_19348/2503494064.py:1: FutureWarning: You are using `torch.load` with `weights_only=False` (the current default value), which uses the default pickle module implicitly. It is possible to construct malicious pickle data which will execute arbitrary code during unpickling (See https://github.com/pytorch/pytorch/blob/main/SECURITY.md#untrusted-models for more details). In a future release, the default value for `weights_only` will be flipped to `True`. This limits the functions that could be executed during unpickling. Arbitrary objects will no longer be allowed to be loaded via this mode unless they are explicitly allowlisted by the user via `torch.serialization.add_safe_globals`. We recommend you start setting `weights_only=True` for any use case where you don't have full control of the loaded file. Please open an issue on GitHub for any issues related to this experimental feature.\n",
      "  model = torch.load('model_nerf_colmap').to(device)\n"
     ]
    }
   ],
   "source": [
    "model = torch.load('model_nerf_colmap').to(device)"
   ]
  },
  {
   "cell_type": "code",
   "execution_count": 29,
   "id": "74e0f3d9-71c0-4149-93a3-a16ff6263e96",
   "metadata": {},
   "outputs": [
    {
     "name": "stdout",
     "output_type": "stream",
     "text": [
      "Creating density volume with resolution 700...\n",
      "Sampling density field...\n",
      "Density field statistics:\n",
      "Min: 0.000000\n",
      "Max: 298.032959\n",
      "Mean: 28.803631\n",
      "Std: 31.250738\n",
      "Auto-determined threshold: 60.054369\n",
      "Extracting mesh with threshold 60.05436897277832...\n",
      "Mesh extracted with 17831979 vertices and 35505693 faces\n",
      "Sampling colors...\n",
      "Processing mesh...\n",
      "Saving mesh to nerf_mesh.obj...\n"
     ]
    }
   ],
   "source": [
    "import torch\n",
    "import numpy as np\n",
    "from skimage.measure import marching_cubes\n",
    "import trimesh\n",
    "import torch.nn.functional as F\n",
    "\n",
    "def analyze_density_field(density_volume):\n",
    "    \"\"\"Analyze the density field to help choose a good threshold.\"\"\"\n",
    "    min_density = float(density_volume.min())\n",
    "    max_density = float(density_volume.max())\n",
    "    mean_density = float(density_volume.mean())\n",
    "    std_density = float(density_volume.std())\n",
    "    \n",
    "    print(f\"Density field statistics:\")\n",
    "    print(f\"Min: {min_density:.6f}\")\n",
    "    print(f\"Max: {max_density:.6f}\")\n",
    "    print(f\"Mean: {mean_density:.6f}\")\n",
    "    print(f\"Std: {std_density:.6f}\")\n",
    "    \n",
    "    # Suggest threshold as mean + 1 std deviation\n",
    "    suggested_threshold = mean_density + std_density\n",
    "    return suggested_threshold\n",
    "\n",
    "def extract_mesh(nerf_model, resolution=128, threshold=None, bbox_min=[-1.5, -1.5, -1.5], \n",
    "                bbox_max=[1.5, 1.5, 1.5], device=torch.device(\"cpu\")):\n",
    "    \"\"\"\n",
    "    Extract a colored mesh from a trained NeRF model.\n",
    "    \n",
    "    Args:\n",
    "        nerf_model: Trained NeRF model\n",
    "        resolution: Grid resolution for marching cubes\n",
    "        threshold: Density threshold for surface extraction (if None, will be auto-determined)\n",
    "        bbox_min: Minimum corner of bounding box\n",
    "        bbox_max: Maximum corner of bounding box\n",
    "        device: Torch device to use\n",
    "    \n",
    "    Returns:\n",
    "        trimesh.Trimesh: Colored mesh\n",
    "    \"\"\"\n",
    "    print(f\"Creating density volume with resolution {resolution}...\")\n",
    "    \n",
    "    # Create grid of points\n",
    "    x = torch.linspace(bbox_min[0], bbox_max[0], resolution)\n",
    "    y = torch.linspace(bbox_min[1], bbox_max[1], resolution)\n",
    "    z = torch.linspace(bbox_min[2], bbox_max[2], resolution)\n",
    "    xx, yy, zz = torch.meshgrid(x, y, z, indexing='ij')\n",
    "    points = torch.stack([xx, yy, zz], dim=-1).to(device)\n",
    "    \n",
    "    # Create density volume\n",
    "    density_volume = torch.zeros((resolution, resolution, resolution))\n",
    "    chunk_size = 512 * 512  # Process in chunks to avoid OOM\n",
    "    \n",
    "    print(\"Sampling density field...\")\n",
    "    with torch.no_grad():\n",
    "        for i in range(0, points.numel() // 3, chunk_size):\n",
    "            chunk_points = points.reshape(-1, 3)[i:i+chunk_size]\n",
    "            # Assume model returns (rgb, sigma) tuple\n",
    "            _, chunk_densities = nerf_model(chunk_points, torch.zeros_like(chunk_points))\n",
    "            density_volume.reshape(-1)[i:i+chunk_size] = chunk_densities.cpu()\n",
    "    \n",
    "    # Auto-determine threshold if not provided\n",
    "    if threshold is None:\n",
    "        threshold = analyze_density_field(density_volume)\n",
    "        print(f\"Auto-determined threshold: {threshold:.6f}\")\n",
    "    \n",
    "    print(f\"Extracting mesh with threshold {threshold}...\")\n",
    "    \n",
    "    try:\n",
    "        # Extract mesh using marching cubes\n",
    "        vertices, faces, normals, _ = marching_cubes(\n",
    "            density_volume.numpy(),\n",
    "            threshold,\n",
    "            spacing=((bbox_max[0] - bbox_min[0])/resolution,\n",
    "                    (bbox_max[1] - bbox_min[1])/resolution,\n",
    "                    (bbox_max[2] - bbox_min[2])/resolution)\n",
    "        )\n",
    "    except ValueError as e:\n",
    "        print(\"Error during marching cubes:\")\n",
    "        print(e)\n",
    "        print(\"\\nTry adjusting the threshold based on the density statistics above.\")\n",
    "        raise\n",
    "    \n",
    "    print(f\"Mesh extracted with {len(vertices)} vertices and {len(faces)} faces\")\n",
    "    \n",
    "    # Adjust vertices to match bbox\n",
    "    vertices = vertices + np.array(bbox_min)\n",
    "    \n",
    "    # Sample colors at vertex positions\n",
    "    vertex_colors = torch.zeros((len(vertices), 3))\n",
    "    vertices_tensor = torch.tensor(vertices, dtype=torch.float32).to(device)\n",
    "    \n",
    "    print(\"Sampling colors...\")\n",
    "    with torch.no_grad():\n",
    "        for i in range(0, len(vertices), chunk_size):\n",
    "            chunk_vertices = vertices_tensor[i:i+chunk_size]\n",
    "            # Assume model returns (rgb, sigma) tuple\n",
    "            chunk_colors, _ = nerf_model(chunk_vertices, torch.zeros_like(chunk_vertices))\n",
    "            vertex_colors[i:i+chunk_size] = chunk_colors.cpu()\n",
    "    \n",
    "    # Create mesh with vertex colors\n",
    "    mesh = trimesh.Trimesh(\n",
    "        vertices=vertices,\n",
    "        faces=faces,\n",
    "        vertex_colors=(vertex_colors.numpy() * 255).astype(np.uint8),\n",
    "        vertex_normals=normals\n",
    "    )\n",
    "    \n",
    "    return mesh\n",
    "\n",
    "def save_colored_mesh(nerf_model, output_path, resolution=256, threshold=None, device=torch.device(\"cpu\")):\n",
    "    \"\"\"\n",
    "    Extract and save a colored mesh from a NeRF model.\n",
    "    \n",
    "    Args:\n",
    "        nerf_model: Trained NeRF model\n",
    "        output_path: Path to save the mesh (should end in .ply or .obj)\n",
    "        resolution: Resolution for marching cubes\n",
    "        threshold: Density threshold (if None, will be auto-determined)\n",
    "        device: Torch device to use\n",
    "    \"\"\"\n",
    "    mesh = extract_mesh(nerf_model, resolution=resolution, threshold=threshold, device=device)\n",
    "    \n",
    "    print(\"Processing mesh...\")\n",
    "    # Optional mesh cleanup\n",
    "    mesh = mesh.process(validate=True)\n",
    "    \n",
    "    print(f\"Saving mesh to {output_path}...\")\n",
    "    # Save the mesh\n",
    "    mesh.export(output_path)\n",
    "    return mesh\n",
    "\n",
    "# After loading your model\n",
    "resolution = 700  # Increase for better quality, decrease if you run into memory issues\n",
    "output_path = \"nerf_mesh.obj\"  # Can also use .obj format\n",
    "\n",
    "# Extract and save the mesh\n",
    "mesh = save_colored_mesh(model, output_path, resolution=resolution, device=device)"
   ]
  },
  {
   "cell_type": "code",
   "execution_count": null,
   "id": "5b528771-b4d7-4285-8fd3-d15842b3f8c8",
   "metadata": {},
   "outputs": [],
   "source": []
  },
  {
   "cell_type": "code",
   "execution_count": null,
   "id": "b94e15e1-1f6b-4372-9ee0-22a25cea75c1",
   "metadata": {},
   "outputs": [],
   "source": []
  },
  {
   "cell_type": "code",
   "execution_count": null,
   "id": "832d3a25-9d9d-4248-a210-9876f24a5f80",
   "metadata": {},
   "outputs": [],
   "source": []
  },
  {
   "cell_type": "code",
   "execution_count": null,
   "id": "3c2956aa-8e87-44fc-94d9-8b3fd4c54569",
   "metadata": {},
   "outputs": [],
   "source": []
  },
  {
   "cell_type": "code",
   "execution_count": null,
   "id": "3d91e1c2-ce41-4977-a3f9-944067a3af11",
   "metadata": {},
   "outputs": [],
   "source": []
  },
  {
   "cell_type": "code",
   "execution_count": null,
   "id": "ee7b0840-5978-4b21-b1b0-07dc04daa80b",
   "metadata": {},
   "outputs": [],
   "source": []
  },
  {
   "cell_type": "code",
   "execution_count": null,
   "id": "6c99cb50-6a3a-482f-9e91-493359805a7c",
   "metadata": {},
   "outputs": [],
   "source": []
  },
  {
   "cell_type": "code",
   "execution_count": null,
   "id": "a91ece44-7ef1-4086-ac35-0054a0d37394",
   "metadata": {},
   "outputs": [],
   "source": [
    "#!pip install Pymcubes\n",
    "#!pip install trimesh\n",
    "#!pip install -U scikit-image\n",
    "#!pip install genesis-world  # Requires Python >=3.9;\n",
    "#!pip uninstall genesis-world\n",
    "#!conda install -c anaconda trimesh"
   ]
  },
  {
   "cell_type": "code",
   "execution_count": null,
   "id": "b1340391-1311-4703-87db-6b37b442b4c6",
   "metadata": {},
   "outputs": [],
   "source": []
  },
  {
   "cell_type": "code",
   "execution_count": null,
   "id": "08ac8b37-99bb-41b7-92e3-71ef9d9f9e2e",
   "metadata": {},
   "outputs": [],
   "source": []
  },
  {
   "cell_type": "code",
   "execution_count": null,
   "id": "b1c97ed5-c343-4e17-957a-137d1c1a1acc",
   "metadata": {},
   "outputs": [],
   "source": []
  },
  {
   "cell_type": "code",
   "execution_count": null,
   "id": "4de10ac4-4564-416c-81f5-0c6d22286d5d",
   "metadata": {},
   "outputs": [],
   "source": []
  }
 ],
 "metadata": {
  "kernelspec": {
   "display_name": "Python [conda env:newenv] *",
   "language": "python",
   "name": "conda-env-newenv-py"
  },
  "language_info": {
   "codemirror_mode": {
    "name": "ipython",
    "version": 3
   },
   "file_extension": ".py",
   "mimetype": "text/x-python",
   "name": "python",
   "nbconvert_exporter": "python",
   "pygments_lexer": "ipython3",
   "version": "3.9.21"
  }
 },
 "nbformat": 4,
 "nbformat_minor": 5
}
