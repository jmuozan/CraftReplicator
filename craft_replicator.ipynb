{
  "cells": [
    {
      "cell_type": "code",
      "execution_count": 3,
      "id": "257860de-71ad-4386-88bd-fc945e3bc256",
      "metadata": {
        "id": "257860de-71ad-4386-88bd-fc945e3bc256"
      },
      "outputs": [],
      "source": [
        "import torch\n",
        "import torch.nn as nn\n",
        "import numpy as np\n",
        "\n",
        "import os\n",
        "import imageio\n",
        "import matplotlib.pyplot as plt\n",
        "from torch.utils.data import DataLoader\n",
        "\n",
        "from dataset import get_rays\n",
        "from rendering import rendering\n",
        "from model import Voxels, Nerf\n",
        "from ml_helpers import training"
      ]
    },
    {
      "cell_type": "code",
      "source": [
        "!pip install -U scikit-image\n",
        "!pip install torch\n",
        "!pip install matplotlib\n",
        "!pip install numpy"
      ],
      "metadata": {
        "id": "f7cCAQHR3c5_",
        "outputId": "8e32921e-a132-4f98-e769-8da21efd5278",
        "colab": {
          "base_uri": "https://localhost:8080/"
        }
      },
      "id": "f7cCAQHR3c5_",
      "execution_count": 2,
      "outputs": [
        {
          "output_type": "stream",
          "name": "stdout",
          "text": [
            "Requirement already satisfied: scikit-image in /usr/local/lib/python3.11/dist-packages (0.25.1)\n",
            "Requirement already satisfied: numpy>=1.24 in /usr/local/lib/python3.11/dist-packages (from scikit-image) (1.26.4)\n",
            "Requirement already satisfied: scipy>=1.11.2 in /usr/local/lib/python3.11/dist-packages (from scikit-image) (1.13.1)\n",
            "Requirement already satisfied: networkx>=3.0 in /usr/local/lib/python3.11/dist-packages (from scikit-image) (3.4.2)\n",
            "Requirement already satisfied: pillow>=10.1 in /usr/local/lib/python3.11/dist-packages (from scikit-image) (11.1.0)\n",
            "Requirement already satisfied: imageio!=2.35.0,>=2.33 in /usr/local/lib/python3.11/dist-packages (from scikit-image) (2.36.1)\n",
            "Requirement already satisfied: tifffile>=2022.8.12 in /usr/local/lib/python3.11/dist-packages (from scikit-image) (2025.1.10)\n",
            "Requirement already satisfied: packaging>=21 in /usr/local/lib/python3.11/dist-packages (from scikit-image) (24.2)\n",
            "Requirement already satisfied: lazy-loader>=0.4 in /usr/local/lib/python3.11/dist-packages (from scikit-image) (0.4)\n",
            "Requirement already satisfied: torch in /usr/local/lib/python3.11/dist-packages (2.5.1+cu124)\n",
            "Requirement already satisfied: filelock in /usr/local/lib/python3.11/dist-packages (from torch) (3.17.0)\n",
            "Requirement already satisfied: typing-extensions>=4.8.0 in /usr/local/lib/python3.11/dist-packages (from torch) (4.12.2)\n",
            "Requirement already satisfied: networkx in /usr/local/lib/python3.11/dist-packages (from torch) (3.4.2)\n",
            "Requirement already satisfied: jinja2 in /usr/local/lib/python3.11/dist-packages (from torch) (3.1.5)\n",
            "Requirement already satisfied: fsspec in /usr/local/lib/python3.11/dist-packages (from torch) (2024.10.0)\n",
            "Collecting nvidia-cuda-nvrtc-cu12==12.4.127 (from torch)\n",
            "  Downloading nvidia_cuda_nvrtc_cu12-12.4.127-py3-none-manylinux2014_x86_64.whl.metadata (1.5 kB)\n",
            "Collecting nvidia-cuda-runtime-cu12==12.4.127 (from torch)\n",
            "  Downloading nvidia_cuda_runtime_cu12-12.4.127-py3-none-manylinux2014_x86_64.whl.metadata (1.5 kB)\n",
            "Collecting nvidia-cuda-cupti-cu12==12.4.127 (from torch)\n",
            "  Downloading nvidia_cuda_cupti_cu12-12.4.127-py3-none-manylinux2014_x86_64.whl.metadata (1.6 kB)\n",
            "Collecting nvidia-cudnn-cu12==9.1.0.70 (from torch)\n",
            "  Downloading nvidia_cudnn_cu12-9.1.0.70-py3-none-manylinux2014_x86_64.whl.metadata (1.6 kB)\n",
            "Collecting nvidia-cublas-cu12==12.4.5.8 (from torch)\n",
            "  Downloading nvidia_cublas_cu12-12.4.5.8-py3-none-manylinux2014_x86_64.whl.metadata (1.5 kB)\n",
            "Collecting nvidia-cufft-cu12==11.2.1.3 (from torch)\n",
            "  Downloading nvidia_cufft_cu12-11.2.1.3-py3-none-manylinux2014_x86_64.whl.metadata (1.5 kB)\n",
            "Collecting nvidia-curand-cu12==10.3.5.147 (from torch)\n",
            "  Downloading nvidia_curand_cu12-10.3.5.147-py3-none-manylinux2014_x86_64.whl.metadata (1.5 kB)\n",
            "Collecting nvidia-cusolver-cu12==11.6.1.9 (from torch)\n",
            "  Downloading nvidia_cusolver_cu12-11.6.1.9-py3-none-manylinux2014_x86_64.whl.metadata (1.6 kB)\n",
            "Collecting nvidia-cusparse-cu12==12.3.1.170 (from torch)\n",
            "  Downloading nvidia_cusparse_cu12-12.3.1.170-py3-none-manylinux2014_x86_64.whl.metadata (1.6 kB)\n",
            "Requirement already satisfied: nvidia-nccl-cu12==2.21.5 in /usr/local/lib/python3.11/dist-packages (from torch) (2.21.5)\n",
            "Requirement already satisfied: nvidia-nvtx-cu12==12.4.127 in /usr/local/lib/python3.11/dist-packages (from torch) (12.4.127)\n",
            "Collecting nvidia-nvjitlink-cu12==12.4.127 (from torch)\n",
            "  Downloading nvidia_nvjitlink_cu12-12.4.127-py3-none-manylinux2014_x86_64.whl.metadata (1.5 kB)\n",
            "Requirement already satisfied: triton==3.1.0 in /usr/local/lib/python3.11/dist-packages (from torch) (3.1.0)\n",
            "Requirement already satisfied: sympy==1.13.1 in /usr/local/lib/python3.11/dist-packages (from torch) (1.13.1)\n",
            "Requirement already satisfied: mpmath<1.4,>=1.1.0 in /usr/local/lib/python3.11/dist-packages (from sympy==1.13.1->torch) (1.3.0)\n",
            "Requirement already satisfied: MarkupSafe>=2.0 in /usr/local/lib/python3.11/dist-packages (from jinja2->torch) (3.0.2)\n",
            "Downloading nvidia_cublas_cu12-12.4.5.8-py3-none-manylinux2014_x86_64.whl (363.4 MB)\n",
            "\u001b[2K   \u001b[90m━━━━━━━━━━━━━━━━━━━━━━━━━━━━━━━━━━━━━━━━\u001b[0m \u001b[32m363.4/363.4 MB\u001b[0m \u001b[31m2.2 MB/s\u001b[0m eta \u001b[36m0:00:00\u001b[0m\n",
            "\u001b[?25hDownloading nvidia_cuda_cupti_cu12-12.4.127-py3-none-manylinux2014_x86_64.whl (13.8 MB)\n",
            "\u001b[2K   \u001b[90m━━━━━━━━━━━━━━━━━━━━━━━━━━━━━━━━━━━━━━━━\u001b[0m \u001b[32m13.8/13.8 MB\u001b[0m \u001b[31m87.1 MB/s\u001b[0m eta \u001b[36m0:00:00\u001b[0m\n",
            "\u001b[?25hDownloading nvidia_cuda_nvrtc_cu12-12.4.127-py3-none-manylinux2014_x86_64.whl (24.6 MB)\n",
            "\u001b[2K   \u001b[90m━━━━━━━━━━━━━━━━━━━━━━━━━━━━━━━━━━━━━━━━\u001b[0m \u001b[32m24.6/24.6 MB\u001b[0m \u001b[31m67.2 MB/s\u001b[0m eta \u001b[36m0:00:00\u001b[0m\n",
            "\u001b[?25hDownloading nvidia_cuda_runtime_cu12-12.4.127-py3-none-manylinux2014_x86_64.whl (883 kB)\n",
            "\u001b[2K   \u001b[90m━━━━━━━━━━━━━━━━━━━━━━━━━━━━━━━━━━━━━━━━\u001b[0m \u001b[32m883.7/883.7 kB\u001b[0m \u001b[31m49.6 MB/s\u001b[0m eta \u001b[36m0:00:00\u001b[0m\n",
            "\u001b[?25hDownloading nvidia_cudnn_cu12-9.1.0.70-py3-none-manylinux2014_x86_64.whl (664.8 MB)\n",
            "\u001b[2K   \u001b[90m━━━━━━━━━━━━━━━━━━━━━━━━━━━━━━━━━━━━━━━━\u001b[0m \u001b[32m664.8/664.8 MB\u001b[0m \u001b[31m2.7 MB/s\u001b[0m eta \u001b[36m0:00:00\u001b[0m\n",
            "\u001b[?25hDownloading nvidia_cufft_cu12-11.2.1.3-py3-none-manylinux2014_x86_64.whl (211.5 MB)\n",
            "\u001b[2K   \u001b[90m━━━━━━━━━━━━━━━━━━━━━━━━━━━━━━━━━━━━━━━━\u001b[0m \u001b[32m211.5/211.5 MB\u001b[0m \u001b[31m5.3 MB/s\u001b[0m eta \u001b[36m0:00:00\u001b[0m\n",
            "\u001b[?25hDownloading nvidia_curand_cu12-10.3.5.147-py3-none-manylinux2014_x86_64.whl (56.3 MB)\n",
            "\u001b[2K   \u001b[90m━━━━━━━━━━━━━━━━━━━━━━━━━━━━━━━━━━━━━━━━\u001b[0m \u001b[32m56.3/56.3 MB\u001b[0m \u001b[31m14.3 MB/s\u001b[0m eta \u001b[36m0:00:00\u001b[0m\n",
            "\u001b[?25hDownloading nvidia_cusolver_cu12-11.6.1.9-py3-none-manylinux2014_x86_64.whl (127.9 MB)\n",
            "\u001b[2K   \u001b[90m━━━━━━━━━━━━━━━━━━━━━━━━━━━━━━━━━━━━━━━━\u001b[0m \u001b[32m127.9/127.9 MB\u001b[0m \u001b[31m7.2 MB/s\u001b[0m eta \u001b[36m0:00:00\u001b[0m\n",
            "\u001b[?25hDownloading nvidia_cusparse_cu12-12.3.1.170-py3-none-manylinux2014_x86_64.whl (207.5 MB)\n",
            "\u001b[2K   \u001b[90m━━━━━━━━━━━━━━━━━━━━━━━━━━━━━━━━━━━━━━━━\u001b[0m \u001b[32m207.5/207.5 MB\u001b[0m \u001b[31m6.4 MB/s\u001b[0m eta \u001b[36m0:00:00\u001b[0m\n",
            "\u001b[?25hDownloading nvidia_nvjitlink_cu12-12.4.127-py3-none-manylinux2014_x86_64.whl (21.1 MB)\n",
            "\u001b[2K   \u001b[90m━━━━━━━━━━━━━━━━━━━━━━━━━━━━━━━━━━━━━━━━\u001b[0m \u001b[32m21.1/21.1 MB\u001b[0m \u001b[31m76.0 MB/s\u001b[0m eta \u001b[36m0:00:00\u001b[0m\n",
            "\u001b[?25hInstalling collected packages: nvidia-nvjitlink-cu12, nvidia-curand-cu12, nvidia-cufft-cu12, nvidia-cuda-runtime-cu12, nvidia-cuda-nvrtc-cu12, nvidia-cuda-cupti-cu12, nvidia-cublas-cu12, nvidia-cusparse-cu12, nvidia-cudnn-cu12, nvidia-cusolver-cu12\n",
            "  Attempting uninstall: nvidia-nvjitlink-cu12\n",
            "    Found existing installation: nvidia-nvjitlink-cu12 12.5.82\n",
            "    Uninstalling nvidia-nvjitlink-cu12-12.5.82:\n",
            "      Successfully uninstalled nvidia-nvjitlink-cu12-12.5.82\n",
            "  Attempting uninstall: nvidia-curand-cu12\n",
            "    Found existing installation: nvidia-curand-cu12 10.3.6.82\n",
            "    Uninstalling nvidia-curand-cu12-10.3.6.82:\n",
            "      Successfully uninstalled nvidia-curand-cu12-10.3.6.82\n",
            "  Attempting uninstall: nvidia-cufft-cu12\n",
            "    Found existing installation: nvidia-cufft-cu12 11.2.3.61\n",
            "    Uninstalling nvidia-cufft-cu12-11.2.3.61:\n",
            "      Successfully uninstalled nvidia-cufft-cu12-11.2.3.61\n",
            "  Attempting uninstall: nvidia-cuda-runtime-cu12\n",
            "    Found existing installation: nvidia-cuda-runtime-cu12 12.5.82\n",
            "    Uninstalling nvidia-cuda-runtime-cu12-12.5.82:\n",
            "      Successfully uninstalled nvidia-cuda-runtime-cu12-12.5.82\n",
            "  Attempting uninstall: nvidia-cuda-nvrtc-cu12\n",
            "    Found existing installation: nvidia-cuda-nvrtc-cu12 12.5.82\n",
            "    Uninstalling nvidia-cuda-nvrtc-cu12-12.5.82:\n",
            "      Successfully uninstalled nvidia-cuda-nvrtc-cu12-12.5.82\n",
            "  Attempting uninstall: nvidia-cuda-cupti-cu12\n",
            "    Found existing installation: nvidia-cuda-cupti-cu12 12.5.82\n",
            "    Uninstalling nvidia-cuda-cupti-cu12-12.5.82:\n",
            "      Successfully uninstalled nvidia-cuda-cupti-cu12-12.5.82\n",
            "  Attempting uninstall: nvidia-cublas-cu12\n",
            "    Found existing installation: nvidia-cublas-cu12 12.5.3.2\n",
            "    Uninstalling nvidia-cublas-cu12-12.5.3.2:\n",
            "      Successfully uninstalled nvidia-cublas-cu12-12.5.3.2\n",
            "  Attempting uninstall: nvidia-cusparse-cu12\n",
            "    Found existing installation: nvidia-cusparse-cu12 12.5.1.3\n",
            "    Uninstalling nvidia-cusparse-cu12-12.5.1.3:\n",
            "      Successfully uninstalled nvidia-cusparse-cu12-12.5.1.3\n",
            "  Attempting uninstall: nvidia-cudnn-cu12\n",
            "    Found existing installation: nvidia-cudnn-cu12 9.3.0.75\n",
            "    Uninstalling nvidia-cudnn-cu12-9.3.0.75:\n",
            "      Successfully uninstalled nvidia-cudnn-cu12-9.3.0.75\n",
            "  Attempting uninstall: nvidia-cusolver-cu12\n",
            "    Found existing installation: nvidia-cusolver-cu12 11.6.3.83\n",
            "    Uninstalling nvidia-cusolver-cu12-11.6.3.83:\n",
            "      Successfully uninstalled nvidia-cusolver-cu12-11.6.3.83\n",
            "Successfully installed nvidia-cublas-cu12-12.4.5.8 nvidia-cuda-cupti-cu12-12.4.127 nvidia-cuda-nvrtc-cu12-12.4.127 nvidia-cuda-runtime-cu12-12.4.127 nvidia-cudnn-cu12-9.1.0.70 nvidia-cufft-cu12-11.2.1.3 nvidia-curand-cu12-10.3.5.147 nvidia-cusolver-cu12-11.6.1.9 nvidia-cusparse-cu12-12.3.1.170 nvidia-nvjitlink-cu12-12.4.127\n",
            "Requirement already satisfied: matplotlib in /usr/local/lib/python3.11/dist-packages (3.10.0)\n",
            "Requirement already satisfied: contourpy>=1.0.1 in /usr/local/lib/python3.11/dist-packages (from matplotlib) (1.3.1)\n",
            "Requirement already satisfied: cycler>=0.10 in /usr/local/lib/python3.11/dist-packages (from matplotlib) (0.12.1)\n",
            "Requirement already satisfied: fonttools>=4.22.0 in /usr/local/lib/python3.11/dist-packages (from matplotlib) (4.55.7)\n",
            "Requirement already satisfied: kiwisolver>=1.3.1 in /usr/local/lib/python3.11/dist-packages (from matplotlib) (1.4.8)\n",
            "Requirement already satisfied: numpy>=1.23 in /usr/local/lib/python3.11/dist-packages (from matplotlib) (1.26.4)\n",
            "Requirement already satisfied: packaging>=20.0 in /usr/local/lib/python3.11/dist-packages (from matplotlib) (24.2)\n",
            "Requirement already satisfied: pillow>=8 in /usr/local/lib/python3.11/dist-packages (from matplotlib) (11.1.0)\n",
            "Requirement already satisfied: pyparsing>=2.3.1 in /usr/local/lib/python3.11/dist-packages (from matplotlib) (3.2.1)\n",
            "Requirement already satisfied: python-dateutil>=2.7 in /usr/local/lib/python3.11/dist-packages (from matplotlib) (2.8.2)\n",
            "Requirement already satisfied: six>=1.5 in /usr/local/lib/python3.11/dist-packages (from python-dateutil>=2.7->matplotlib) (1.17.0)\n",
            "Requirement already satisfied: numpy in /usr/local/lib/python3.11/dist-packages (1.26.4)\n"
          ]
        }
      ]
    },
    {
      "cell_type": "code",
      "source": [
        "from google.colab import drive\n",
        "drive.mount('/content/drive')"
      ],
      "metadata": {
        "id": "l0IytHh83KYc",
        "outputId": "1fae5e03-7ea8-42e7-8dce-c8aa92e2dae2",
        "colab": {
          "base_uri": "https://localhost:8080/"
        }
      },
      "id": "l0IytHh83KYc",
      "execution_count": 1,
      "outputs": [
        {
          "output_type": "stream",
          "name": "stdout",
          "text": [
            "Mounted at /content/drive\n"
          ]
        }
      ]
    },
    {
      "cell_type": "code",
      "execution_count": 4,
      "id": "0edee44f-d2ec-445c-82fe-4ec3556989f4",
      "metadata": {
        "id": "0edee44f-d2ec-445c-82fe-4ec3556989f4",
        "outputId": "42d67944-c99a-4fe5-cd5c-13837cb75097",
        "colab": {
          "base_uri": "https://localhost:8080/"
        }
      },
      "outputs": [
        {
          "output_type": "stream",
          "name": "stdout",
          "text": [
            "torch version:  2.5.1+cu124\n",
            "device:  cpu\n"
          ]
        }
      ],
      "source": [
        "print(\"torch version: \", torch.__version__)\n",
        "\n",
        "if torch.backends.mps.is_available():\n",
        "    device = torch.device(\"cuda\")\n",
        "else:\n",
        "    device = torch.device(\"cpu\")\n",
        "\n",
        "print(\"device: \", device)"
      ]
    },
    {
      "cell_type": "markdown",
      "id": "5922e325-8976-4a36-88aa-908cbe4d3953",
      "metadata": {
        "id": "5922e325-8976-4a36-88aa-908cbe4d3953"
      },
      "source": [
        "# Camera / Dataset"
      ]
    },
    {
      "cell_type": "code",
      "execution_count": null,
      "id": "66e62ab8-9524-48b6-a646-01b27c9a3fd6",
      "metadata": {
        "id": "66e62ab8-9524-48b6-a646-01b27c9a3fd6"
      },
      "outputs": [],
      "source": [
        "batch_size = 1024\n",
        "\n",
        "o, d, target_px_values = get_rays('fox', mode='train')\n",
        "dataloader = DataLoader(torch.cat((torch.from_numpy(o).reshape(-1, 3).type(torch.float),\n",
        "                                   torch.from_numpy(d).reshape(-1, 3).type(torch.float),\n",
        "                                   torch.from_numpy(target_px_values).reshape(-1, 3).type(torch.float)), dim=1),\n",
        "                       batch_size=batch_size, shuffle=True)\n",
        "\n",
        "\n",
        "dataloader_warmup = DataLoader(torch.cat((torch.from_numpy(o).reshape(90, 400, 400, 3)[:, 100:300, 100:300, :].reshape(-1, 3).type(torch.float),\n",
        "                               torch.from_numpy(d).reshape(90, 400, 400, 3)[:, 100:300, 100:300, :].reshape(-1, 3).type(torch.float),\n",
        "                               torch.from_numpy(target_px_values).reshape(90, 400, 400, 3)[:, 100:300, 100:300, :].reshape(-1, 3).type(torch.float)), dim=1),\n",
        "                       batch_size=batch_size, shuffle=True)\n",
        "\n",
        "\n",
        "test_o, test_d, test_target_px_values = get_rays('fox', mode='test')"
      ]
    },
    {
      "cell_type": "markdown",
      "id": "bbcc6284-ff38-4a9d-a914-7cd8ff9163fb",
      "metadata": {
        "id": "bbcc6284-ff38-4a9d-a914-7cd8ff9163fb"
      },
      "source": [
        "# Training"
      ]
    },
    {
      "cell_type": "code",
      "execution_count": null,
      "id": "edd96eec-e258-469d-8781-da1dc2bd1ca6",
      "metadata": {
        "id": "edd96eec-e258-469d-8781-da1dc2bd1ca6",
        "outputId": "50609de9-c5d6-416b-a936-ebddd87ad54e"
      },
      "outputs": [
        {
          "name": "stderr",
          "output_type": "stream",
          "text": [
            "100%|███████████████████████████████████████| 3516/3516 [25:51<00:00,  2.27it/s]\n"
          ]
        },
        {
          "data": {
            "image/png": "[encoded data removed]",
            "text/plain": [
              "<Figure size 640x480 with 1 Axes>"
            ]
          },
          "metadata": {},
          "output_type": "display_data"
        },
        {
          "name": "stderr",
          "output_type": "stream",
          "text": [
            "  2%|▋                                    | 268/14063 [01:59<1:40:28,  2.29it/s]"
          ]
        }
      ],
      "source": [
        "device = device\n",
        "\n",
        "tn = 8.\n",
        "tf = 12.\n",
        "nb_epochs = 30 #15\n",
        "lr = 5e-4 #1e-3\n",
        "gamma = 0.7 #.5\n",
        "nb_bins = 256 #100\n",
        "\n",
        "model = Nerf(hidden_dim=256).to(device) #Nerf(hidden_dim=128).to(device)\n",
        "optimizer = torch.optim.Adam(model.parameters(), lr=lr)\n",
        "scheduler = torch.optim.lr_scheduler.MultiStepLR(optimizer, milestones=[5, 10], gamma=gamma)\n",
        "\n",
        "\n",
        "\n",
        "training_loss = training(model, optimizer, scheduler, tn, tf, nb_bins, 1, dataloader_warmup, device=device)\n",
        "plt.plot(training_loss)\n",
        "plt.show()\n",
        "training_loss = training(model, optimizer, scheduler, tn, tf, nb_bins, nb_epochs, dataloader, device=device)\n",
        "plt.plot(training_loss)\n",
        "plt.show()"
      ]
    },
    {
      "cell_type": "code",
      "execution_count": null,
      "id": "e2b2ceae-86b6-4d6d-aafe-ac3627807f50",
      "metadata": {
        "id": "e2b2ceae-86b6-4d6d-aafe-ac3627807f50"
      },
      "outputs": [],
      "source": [
        "torch.save(model, 'model_nerf_mps')"
      ]
    },
    {
      "cell_type": "markdown",
      "id": "745c316c-a4e5-4ebe-8d4b-88d68d2ded41",
      "metadata": {
        "id": "745c316c-a4e5-4ebe-8d4b-88d68d2ded41"
      },
      "source": [
        "# Testing"
      ]
    },
    {
      "cell_type": "code",
      "execution_count": null,
      "id": "e7e49511-c1d9-49f6-8f96-ce970f06227f",
      "metadata": {
        "id": "e7e49511-c1d9-49f6-8f96-ce970f06227f"
      },
      "outputs": [],
      "source": []
    },
    {
      "cell_type": "markdown",
      "id": "be732b56-fa20-4a47-8b2a-f918c1ea5d7a",
      "metadata": {
        "jp-MarkdownHeadingCollapsed": true,
        "id": "be732b56-fa20-4a47-8b2a-f918c1ea5d7a"
      },
      "source": [
        "# Mesh extraction"
      ]
    },
    {
      "cell_type": "code",
      "execution_count": null,
      "id": "c65aabcc-41c0-4e36-9e2c-6881da92b550",
      "metadata": {
        "id": "c65aabcc-41c0-4e36-9e2c-6881da92b550"
      },
      "outputs": [],
      "source": [
        "model = torch.load('model_nerf_mps').to(device)"
      ]
    },
    {
      "cell_type": "code",
      "execution_count": null,
      "id": "728d733d-8fa6-4537-bd49-eafcc88fe7eb",
      "metadata": {
        "id": "728d733d-8fa6-4537-bd49-eafcc88fe7eb"
      },
      "outputs": [],
      "source": [
        "N = 100 #100\n",
        "scale = 1.5\n",
        "\n",
        "x = torch.linspace(-scale, scale, N)\n",
        "y = torch.linspace(-scale, scale, N)\n",
        "z = torch.linspace(-scale, scale, N)\n",
        "\n",
        "x, y, z = torch.meshgrid((x, y, z))"
      ]
    },
    {
      "cell_type": "code",
      "execution_count": null,
      "id": "97096730-a28a-41d6-9285-5fe4367eca31",
      "metadata": {
        "id": "97096730-a28a-41d6-9285-5fe4367eca31"
      },
      "outputs": [],
      "source": [
        "xyz = torch.cat((x.reshape(-1, 1),\n",
        "                 y.reshape(-1, 1),\n",
        "                 z.reshape(-1, 1)), dim=1)"
      ]
    },
    {
      "cell_type": "code",
      "execution_count": null,
      "id": "5af9aa3b-bac8-4c3e-a788-c4cfbdd48b8d",
      "metadata": {
        "id": "5af9aa3b-bac8-4c3e-a788-c4cfbdd48b8d"
      },
      "outputs": [],
      "source": [
        "with torch.no_grad():\n",
        "    _, density = model.forward(xyz.to(device), torch.zeros_like(xyz).to(device))\n",
        "\n",
        "density = density.cpu().numpy().reshape(N, N, N)"
      ]
    },
    {
      "cell_type": "code",
      "execution_count": null,
      "id": "a91ece44-7ef1-4086-ac35-0054a0d37394",
      "metadata": {
        "id": "a91ece44-7ef1-4086-ac35-0054a0d37394"
      },
      "outputs": [],
      "source": [
        "#!pip install Pymcubes\n",
        "#!pip install trimesh\n",
        "#!pip install -U scikit-image\n",
        "#!pip install genesis-world  # Requires Python >=3.9;\n",
        "#!pip install genesis-world\n",
        "#!conda install -c anaconda trimesh"
      ]
    },
    {
      "cell_type": "code",
      "execution_count": null,
      "id": "3df19e71-abde-4f95-9fbc-5d8ce8aabc5d",
      "metadata": {
        "id": "3df19e71-abde-4f95-9fbc-5d8ce8aabc5d"
      },
      "outputs": [],
      "source": [
        "import numpy as np\n",
        "from skimage.measure import marching_cubes\n",
        "\n",
        "# marching_cubes returns: vertices, faces, normals, values\n",
        "vertices, faces, normals, values = marching_cubes(density, level=15 * np.mean(density))"
      ]
    },
    {
      "cell_type": "code",
      "execution_count": null,
      "id": "8edb51a3-2b8d-40a7-8324-bf05032b36bf",
      "metadata": {
        "id": "8edb51a3-2b8d-40a7-8324-bf05032b36bf"
      },
      "outputs": [],
      "source": [
        "import numpy as np\n",
        "import trimesh"
      ]
    },
    {
      "cell_type": "code",
      "execution_count": null,
      "id": "854862c6-75aa-4b6a-abce-dce5ec33e0ce",
      "metadata": {
        "id": "854862c6-75aa-4b6a-abce-dce5ec33e0ce"
      },
      "outputs": [],
      "source": [
        "mesh = trimesh.Trimesh(vertices=vertices / N, faces=faces)"
      ]
    },
    {
      "cell_type": "code",
      "execution_count": null,
      "id": "2542fa37-75ef-43fe-8350-8d89f513364c",
      "metadata": {
        "id": "2542fa37-75ef-43fe-8350-8d89f513364c"
      },
      "outputs": [],
      "source": [
        "mesh.show()"
      ]
    },
    {
      "cell_type": "code",
      "execution_count": null,
      "id": "c4feb996-963f-434b-b782-5e07e9afb571",
      "metadata": {
        "id": "c4feb996-963f-434b-b782-5e07e9afb571"
      },
      "outputs": [],
      "source": [
        "mesh.export('my_mesh.obj')  # .stl, .ply, etc."
      ]
    },
    {
      "cell_type": "markdown",
      "id": "8e4ce5c2-042d-4114-9f30-b87c14025c72",
      "metadata": {
        "id": "8e4ce5c2-042d-4114-9f30-b87c14025c72"
      },
      "source": [
        "# Color mesh 1"
      ]
    },
    {
      "cell_type": "code",
      "execution_count": null,
      "id": "25a5ea51-bae2-470e-885a-6f43e8b8ec53",
      "metadata": {
        "id": "25a5ea51-bae2-470e-885a-6f43e8b8ec53"
      },
      "outputs": [],
      "source": [
        "mesh.compute_vertex_normals()"
      ]
    },
    {
      "cell_type": "code",
      "execution_count": null,
      "id": "2b30b637-6a5a-45bc-875c-c9284f6efcbf",
      "metadata": {
        "id": "2b30b637-6a5a-45bc-875c-c9284f6efcbf"
      },
      "outputs": [],
      "source": []
    },
    {
      "cell_type": "code",
      "execution_count": null,
      "id": "b1340391-1311-4703-87db-6b37b442b4c6",
      "metadata": {
        "id": "b1340391-1311-4703-87db-6b37b442b4c6"
      },
      "outputs": [],
      "source": [
        "import torch\n",
        "import numpy as np\n",
        "from skimage.measure import marching_cubes\n",
        "import trimesh\n",
        "import trimesh.smoothing\n",
        "\n",
        "def generate_detailed_mesh(model, device, N=200, scale=1.5, batch_size=50000, density_threshold=None):\n",
        "    \"\"\"\n",
        "    Generate a detailed mesh from a NeRF model using batched processing.\n",
        "\n",
        "    Args:\n",
        "        model: The trained NeRF model\n",
        "        device: torch device\n",
        "        N: Number of points per dimension\n",
        "        scale: Scene scale\n",
        "        batch_size: Number of points to process at once\n",
        "        density_threshold: Threshold for marching cubes (if None, uses mean-based threshold)\n",
        "    \"\"\"\n",
        "    # Generate grid points\n",
        "    x = torch.linspace(-scale, scale, N)\n",
        "    y = torch.linspace(-scale, scale, N)\n",
        "    z = torch.linspace(-scale, scale, N)\n",
        "    x, y, z = torch.meshgrid((x, y, z), indexing='ij')\n",
        "    xyz = torch.stack([x, y, z], dim=-1).reshape(-1, 3)\n",
        "\n",
        "    # Process in batches to avoid memory issues\n",
        "    densities = []\n",
        "    for i in range(0, xyz.shape[0], batch_size):\n",
        "        batch_xyz = xyz[i:i+batch_size].to(device)\n",
        "        batch_dirs = torch.zeros_like(batch_xyz).to(device)\n",
        "\n",
        "        with torch.no_grad():\n",
        "            # Assuming model.forward returns (rgb, density)\n",
        "            _, batch_density = model.forward(batch_xyz, batch_dirs)\n",
        "            densities.append(batch_density.cpu())\n",
        "\n",
        "    # Combine results\n",
        "    density = torch.cat(densities, dim=0).numpy().reshape(N, N, N)\n",
        "\n",
        "    # Determine threshold\n",
        "    if density_threshold is None:\n",
        "        density_threshold = 30 * np.mean(density)\n",
        "\n",
        "    # Generate mesh using marching cubes\n",
        "    vertices, faces, normals, values = marching_cubes(\n",
        "        density,\n",
        "        level=density_threshold,\n",
        "        spacing=(scale*2/N, scale*2/N, scale*2/N)\n",
        "    )\n",
        "\n",
        "    # Create and clean mesh\n",
        "    mesh = trimesh.Trimesh(vertices=vertices, faces=faces, normals=normals)\n",
        "\n",
        "    # Optional: Remove disconnected components\n",
        "    components = mesh.split(only_watertight=False)\n",
        "    if len(components) > 1:\n",
        "        # Keep the largest component\n",
        "        areas = np.array([c.area for c in components])\n",
        "        mesh = components[np.argmax(areas)]\n",
        "\n",
        "    # Smooth the mesh\n",
        "    mesh = trimesh.smoothing.filter_laplacian(mesh)\n",
        "\n",
        "    # Flip the normals by inverting faces\n",
        "    mesh.invert()\n",
        "\n",
        "    return mesh\n",
        "\n",
        "# Usage example:\n",
        "N = 250  # Increased resolution\n",
        "scale = 1.5\n",
        "mesh = generate_detailed_mesh(model, device, N=N, scale=scale)\n",
        "\n",
        "# Display the mesh\n",
        "mesh.show()"
      ]
    },
    {
      "cell_type": "code",
      "execution_count": null,
      "id": "08ac8b37-99bb-41b7-92e3-71ef9d9f9e2e",
      "metadata": {
        "id": "08ac8b37-99bb-41b7-92e3-71ef9d9f9e2e"
      },
      "outputs": [],
      "source": [
        "#mesh.export('mesh.obj')  # .stl, .ply, etc."
      ]
    },
    {
      "cell_type": "code",
      "execution_count": null,
      "id": "b1c97ed5-c343-4e17-957a-137d1c1a1acc",
      "metadata": {
        "id": "b1c97ed5-c343-4e17-957a-137d1c1a1acc"
      },
      "outputs": [],
      "source": []
    },
    {
      "cell_type": "code",
      "execution_count": null,
      "id": "4f52cb05-4acf-4d23-adf5-9c5976ddb25e",
      "metadata": {
        "id": "4f52cb05-4acf-4d23-adf5-9c5976ddb25e"
      },
      "outputs": [],
      "source": [
        "!pip install --upgrade PyMCubes"
      ]
    },
    {
      "cell_type": "code",
      "execution_count": null,
      "id": "ed621fa0-e390-456b-b4c6-b9b363f571d7",
      "metadata": {
        "id": "ed621fa0-e390-456b-b4c6-b9b363f571d7"
      },
      "outputs": [],
      "source": []
    },
    {
      "cell_type": "code",
      "execution_count": null,
      "id": "a04d5679-8a5e-40d5-8423-f86005c9c211",
      "metadata": {
        "id": "a04d5679-8a5e-40d5-8423-f86005c9c211"
      },
      "outputs": [],
      "source": []
    },
    {
      "cell_type": "code",
      "execution_count": null,
      "id": "cfacba4e-dda4-4e06-85ea-7bc7cc0fe1d0",
      "metadata": {
        "id": "cfacba4e-dda4-4e06-85ea-7bc7cc0fe1d0"
      },
      "outputs": [],
      "source": []
    }
  ],
  "metadata": {
    "kernelspec": {
      "display_name": "Python [conda env:newenv] *",
      "language": "python",
      "name": "conda-env-newenv-py"
    },
    "language_info": {
      "codemirror_mode": {
        "name": "ipython",
        "version": 3
      },
      "file_extension": ".py",
      "mimetype": "text/x-python",
      "name": "python",
      "nbconvert_exporter": "python",
      "pygments_lexer": "ipython3",
      "version": "3.9.21"
    },
    "colab": {
      "provenance": []
    }
  },
  "nbformat": 4,
  "nbformat_minor": 5
}